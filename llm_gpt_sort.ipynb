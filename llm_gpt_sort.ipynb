{
 "cells": [
  {
   "attachments": {},
   "cell_type": "markdown",
   "id": "ff36c035-80da-40b4-b7b4-04f25d3c5f3f",
   "metadata": {},
   "source": [
    "# LLM-GPT-SORT"
   ]
  },
  {
   "attachments": {},
   "cell_type": "markdown",
   "id": "fa247fb7-48bd-445e-82cc-e1b93893ab8b",
   "metadata": {},
   "source": [
    "## Setup\n",
    "#### Load the API key and relevant Python libaries."
   ]
  },
  {
   "cell_type": "code",
   "execution_count": 1,
   "id": "230146b2",
   "metadata": {
    "height": 114
   },
   "outputs": [],
   "source": [
    "import os\n",
    "import openai\n",
    "from dotenv import load_dotenv, find_dotenv\n",
    "_ = load_dotenv(find_dotenv()) # read local .env file\n",
    "\n",
    "openai.api_key  = os.environ['OPENAI_API_KEY']"
   ]
  },
  {
   "cell_type": "code",
   "execution_count": 2,
   "id": "032b3add",
   "metadata": {
    "height": 199
   },
   "outputs": [],
   "source": [
    "def get_completion_from_messages(messages, \n",
    "                                 model=\"gpt-3.5-turbo\", \n",
    "                                 temperature=0, \n",
    "                                 max_tokens=1000):\n",
    "    response = openai.ChatCompletion.create(\n",
    "        model=model,\n",
    "        messages=messages,\n",
    "        temperature=temperature, \n",
    "        max_tokens=max_tokens, \n",
    "    )\n",
    "    return response.choices[0].message[\"content\"]"
   ]
  },
  {
   "attachments": {},
   "cell_type": "markdown",
   "id": "2801aa5f",
   "metadata": {
    "height": 30
   },
   "source": [
    "# Generate a random list of numbers and sort it with GPT"
   ]
  },
  {
   "cell_type": "code",
   "execution_count": 3,
   "id": "04d2a243",
   "metadata": {
    "height": 641
   },
   "outputs": [
    {
     "name": "stdout",
     "output_type": "stream",
     "text": [
      "[78, 147, 97, 143, 20, 40, 30, 114, 131, 184, 93, 15, 32, 2, 187, 92, 138, 91, 56, 124, 41, 1, 8, 69, 103, 186, 199, 7, 173, 27, 102, 3, 192, 141, 4, 165, 172, 177, 35, 31, 17, 60, 59, 164, 145, 154, 166, 127, 66, 194, 117, 86, 125, 144, 22, 85, 157, 44, 65, 134, 169, 113, 61, 126, 128, 108, 28, 149, 68, 190, 55, 64, 24, 160, 58, 196, 110, 96, 88, 6, 74, 83, 193, 188, 150, 46, 43, 57, 107, 129, 167, 71, 77, 163, 51, 185, 106, 76, 158, 75, 111, 48, 179, 38, 176, 33, 105, 70, 153, 104, 98, 54, 52, 115, 175, 84, 130, 10, 183, 161, 195, 140, 142, 47, 80, 118, 146, 39, 197, 135, 19, 12, 116, 95, 87, 137, 81, 0, 168, 171, 36, 156, 189, 9, 13, 73, 99, 49, 180, 11, 152, 26, 53, 23, 63, 62, 120, 79, 18, 14, 191, 72, 133, 119, 151, 159, 148, 122, 100, 21, 109, 182, 181, 16, 89, 178, 5, 136, 170, 132, 34, 155, 42, 25, 198, 45, 123, 174, 37, 112, 90, 139, 101, 162, 94, 50, 67, 29, 82, 121]\n",
      "[0, 1, 2, 3, 4, 5, 6, 7, 8, 9, 10, 11, 12, 13, 14, 15, 16, 17, 18, 19, 20, 21, 22, 23, 24, 25, 26, 27, 28, 29, 30, 31, 32, 33, 34, 35, 36, 37, 38, 39, 40, 41, 42, 43, 44, 45, 46, 47, 48, 49, 50, 51, 52, 53, 54, 55, 56, 57, 58, 59, 60, 61, 62, 63, 64, 65, 66, 67, 68, 69, 70, 71, 72, 73, 74, 75, 76, 77, 78, 79, 80, 81, 82, 83, 84, 85, 86, 87, 88, 89, 90, 91, 92, 93, 94, 95, 96, 97, 98, 99, 100, 101, 102, 103, 104, 105, 106, 107, 108, 109, 110, 111, 112, 113, 114, 115, 116, 117, 118, 119, 120, 121, 122, 123, 124, 125, 126, 127, 128, 129, 130, 131, 132, 133, 134, 135, 136, 137, 138, 139, 140, 141, 142, 143, 144, 145, 146, 147, 148, 149, 150, 151, 152, 153, 154, 155, 156, 157, 158, 159, 160, 161, 162, 163, 164, 165, 166, 167, 168, 169, 170, 171, 172, 173, 174, 175, 176, 177, 178, 179, 180, 181, 182, 183, 184, 185, 186, 187, 188, 189, 190, 191, 192, 193, 194, 195, 196, 197, 198, 199]\n"
     ]
    }
   ],
   "source": [
    "import random\n",
    "import ast\n",
    "\n",
    "to_sort =  random.sample(range(0, 200), 200)\n",
    "direction = 'Ascending'\n",
    "print(to_sort)\n",
    "\n",
    "\n",
    "sys_msg = f\"\"\"\n",
    "Response should only contain the sorted data in the direction specified by the user.\n",
    "Do not say anything else, just return a same structure with the sorted information.\n",
    "You role is to only return the data.\n",
    "\"\"\"\n",
    "\n",
    "collection_type = f\"\"\"\n",
    "list\n",
    "\"\"\"\n",
    "\n",
    "prompt_nums = f\"\"\"\n",
    "Sort the elements in the given collection in the {direction} order, and return only the sorted collection in the {collection_type} format:\n",
    "{to_sort}\n",
    "\"\"\"\n",
    "\n",
    "\n",
    "\n",
    "messages = [\n",
    "    {'role': 'system',\n",
    "    'content': sys_msg},\n",
    "    {'role':'user',\n",
    "    'content': prompt_nums}\n",
    "]\n",
    "\n",
    "res = get_completion_from_messages(messages)\n",
    "print(res)\n",
    "sorted_list = ast.literal_eval(res)\n"
   ]
  },
  {
   "attachments": {},
   "cell_type": "markdown",
   "id": "921a9961",
   "metadata": {
    "height": 30
   },
   "source": [
    "# Evaluation"
   ]
  },
  {
   "cell_type": "code",
   "execution_count": 4,
   "id": "20e6991a",
   "metadata": {
    "height": 97
   },
   "outputs": [
    {
     "name": "stdout",
     "output_type": "stream",
     "text": [
      "\n",
      "Original sorted collection:\n",
      "[0, 1, 2, 3, 4, 5, 6, 7, 8, 9, 10, 11, 12, 13, 14, 15, 16, 17, 18, 19, 20, 21, 22, 23, 24, 25, 26, 27, 28, 29, 30, 31, 32, 33, 34, 35, 36, 37, 38, 39, 40, 41, 42, 43, 44, 45, 46, 47, 48, 49, 50, 51, 52, 53, 54, 55, 56, 57, 58, 59, 60, 61, 62, 63, 64, 65, 66, 67, 68, 69, 70, 71, 72, 73, 74, 75, 76, 77, 78, 79, 80, 81, 82, 83, 84, 85, 86, 87, 88, 89, 90, 91, 92, 93, 94, 95, 96, 97, 98, 99, 100, 101, 102, 103, 104, 105, 106, 107, 108, 109, 110, 111, 112, 113, 114, 115, 116, 117, 118, 119, 120, 121, 122, 123, 124, 125, 126, 127, 128, 129, 130, 131, 132, 133, 134, 135, 136, 137, 138, 139, 140, 141, 142, 143, 144, 145, 146, 147, 148, 149, 150, 151, 152, 153, 154, 155, 156, 157, 158, 159, 160, 161, 162, 163, 164, 165, 166, 167, 168, 169, 170, 171, 172, 173, 174, 175, 176, 177, 178, 179, 180, 181, 182, 183, 184, 185, 186, 187, 188, 189, 190, 191, 192, 193, 194, 195, 196, 197, 198, 199]\n",
      "\n",
      "LLM sorted collection:\n",
      "[0, 1, 2, 3, 4, 5, 6, 7, 8, 9, 10, 11, 12, 13, 14, 15, 16, 17, 18, 19, 20, 21, 22, 23, 24, 25, 26, 27, 28, 29, 30, 31, 32, 33, 34, 35, 36, 37, 38, 39, 40, 41, 42, 43, 44, 45, 46, 47, 48, 49, 50, 51, 52, 53, 54, 55, 56, 57, 58, 59, 60, 61, 62, 63, 64, 65, 66, 67, 68, 69, 70, 71, 72, 73, 74, 75, 76, 77, 78, 79, 80, 81, 82, 83, 84, 85, 86, 87, 88, 89, 90, 91, 92, 93, 94, 95, 96, 97, 98, 99, 100, 101, 102, 103, 104, 105, 106, 107, 108, 109, 110, 111, 112, 113, 114, 115, 116, 117, 118, 119, 120, 121, 122, 123, 124, 125, 126, 127, 128, 129, 130, 131, 132, 133, 134, 135, 136, 137, 138, 139, 140, 141, 142, 143, 144, 145, 146, 147, 148, 149, 150, 151, 152, 153, 154, 155, 156, 157, 158, 159, 160, 161, 162, 163, 164, 165, 166, 167, 168, 169, 170, 171, 172, 173, 174, 175, 176, 177, 178, 179, 180, 181, 182, 183, 184, 185, 186, 187, 188, 189, 190, 191, 192, 193, 194, 195, 196, 197, 198, 199]\n",
      "\n",
      "Are these two list the same? True\n"
     ]
    }
   ],
   "source": [
    "to_sort.sort()\n",
    "print(f\"\\nOriginal sorted collection:\\n{to_sort}\")\n",
    "print(f\"\\nLLM sorted collection:\\n{sorted_list}\")\n",
    "print(f\"\\nAre these two list the same? {to_sort == sorted_list}\")\n"
   ]
  },
  {
   "attachments": {},
   "cell_type": "markdown",
   "id": "81642814",
   "metadata": {
    "height": 30
   },
   "source": [
    "# Generate a random list of words and sort it with GPT"
   ]
  },
  {
   "cell_type": "code",
   "execution_count": 5,
   "id": "2c7ef710",
   "metadata": {
    "height": 692
   },
   "outputs": [
    {
     "name": "stdout",
     "output_type": "stream",
     "text": [
      "['playing', 'available', 'home', 'came', 'dame', 'busy', 'winds', 'adaptation', 'named', 'continues', 'lucas', 'connections', 'subscribers', 'administrative', 'glad']\n",
      "['adaptation', 'administrative', 'available', 'busy', 'came', 'connections', 'continues', 'dame', 'glad', 'home', 'lucas', 'named', 'playing', 'subscribers', 'winds']\n"
     ]
    }
   ],
   "source": [
    "import random\n",
    "import ast\n",
    "import urllib.request\n",
    "\n",
    "word_url = \"https://www.mit.edu/~ecprice/wordlist.10000\"\n",
    "response = urllib.request.urlopen(word_url)\n",
    "long_txt = response.read().decode()\n",
    "words = long_txt.splitlines()\n",
    "\n",
    "to_sort =  random.sample(words, 15)\n",
    "print(to_sort)\n",
    "\n",
    "sys_msg = f\"\"\"\n",
    "Response should only contain the sorted data in the direction specified by the user.\n",
    "Do not say anything else, just return a same structure with the sorted information.\n",
    "You role is to only return the sorted data.\n",
    "You should make sure to always return the same number of elements that were given to you in the collection.\n",
    "\"\"\"\n",
    "\n",
    "collection_type = f\"\"\"\n",
    "list\n",
    "\"\"\"\n",
    "\n",
    "prompt = f\"\"\"\n",
    "Sort the elements in the given collection in the {direction} order, and return only the sorted collection in the {collection_type} format:\n",
    "\n",
    "{to_sort}\n",
    "\"\"\"\n",
    "\n",
    "messages = [\n",
    "    {'role': 'system',\n",
    "    'content': sys_msg},\n",
    "    {'role':'user',\n",
    "    'content': prompt}\n",
    "]\n",
    "\n",
    "res = get_completion_from_messages(messages)\n",
    "print(res)\n",
    "sorted_list = ast.literal_eval(res)"
   ]
  },
  {
   "attachments": {},
   "cell_type": "markdown",
   "id": "f194b83b",
   "metadata": {
    "height": 30
   },
   "source": [
    "# Evaluation"
   ]
  },
  {
   "cell_type": "code",
   "execution_count": 6,
   "id": "12f6cf60",
   "metadata": {
    "height": 81
   },
   "outputs": [
    {
     "name": "stdout",
     "output_type": "stream",
     "text": [
      "\n",
      "Original sorted collection:\n",
      "['adaptation', 'administrative', 'available', 'busy', 'came', 'connections', 'continues', 'dame', 'glad', 'home', 'lucas', 'named', 'playing', 'subscribers', 'winds']\n",
      "\n",
      "LLM sorted collection:\n",
      "['adaptation', 'administrative', 'available', 'busy', 'came', 'connections', 'continues', 'dame', 'glad', 'home', 'lucas', 'named', 'playing', 'subscribers', 'winds']\n",
      "\n",
      "Are these two list the same? True\n"
     ]
    }
   ],
   "source": [
    "to_sort.sort()\n",
    "print(f\"\\nOriginal sorted collection:\\n{to_sort}\")\n",
    "print(f\"\\nLLM sorted collection:\\n{sorted_list}\")\n",
    "print(f\"\\nAre these two list the same? {to_sort == sorted_list}\")"
   ]
  }
 ],
 "metadata": {
  "kernelspec": {
   "display_name": "Python 3 (ipykernel)",
   "language": "python",
   "name": "python3"
  },
  "language_info": {
   "codemirror_mode": {
    "name": "ipython",
    "version": 3
   },
   "file_extension": ".py",
   "mimetype": "text/x-python",
   "name": "python",
   "nbconvert_exporter": "python",
   "pygments_lexer": "ipython3",
   "version": "3.9.16"
  }
 },
 "nbformat": 4,
 "nbformat_minor": 5
}
